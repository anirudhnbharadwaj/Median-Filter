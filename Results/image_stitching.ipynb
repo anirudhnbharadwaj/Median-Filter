{
 "cells": [
  {
   "cell_type": "code",
   "execution_count": 8,
   "metadata": {},
   "outputs": [
    {
     "name": "stdout",
     "output_type": "stream",
     "text": [
      "Processing folder: cameraman_results\\noise_0.1\n",
      "Processing folder: cameraman_results\\noise_0.2\n",
      "Processing folder: cameraman_results\\noise_0.3\n",
      "Processing folder: cameraman_results\\noise_0.4\n",
      "Processing folder: einstein_results\\noise_0.1\n",
      "Processing folder: einstein_results\\noise_0.2\n",
      "Processing folder: einstein_results\\noise_0.3\n",
      "Processing folder: einstein_results\\noise_0.4\n"
     ]
    }
   ],
   "source": [
    "import os\n",
    "import matplotlib.pyplot as plt\n",
    "import cv2\n",
    "\n",
    "def plot_images_and_save(folder_path, output_folder, main_folder):\n",
    "    \"\"\"\n",
    "    Function to plot images from a folder and save them in the specified output folder.\n",
    "    folder_path: path of the folder containing images\n",
    "    output_folder: path of the folder where the plotted images will be saved\n",
    "    main_folder: path of the main result folder\n",
    "    \"\"\"\n",
    "\n",
    "    image_files = [f for f in os.listdir(folder_path) \n",
    "                   if f.lower().endswith(('png', 'jpg', 'jpeg')) and not f.lower().startswith(('cm', 'en'))]\n",
    "    \n",
    "    if len(image_files) < 3:\n",
    "        print(f\"Not enough images in the folder {folder_path} (need at least 3).\")\n",
    "        return\n",
    "    \n",
    "    images = [cv2.imread(os.path.join(folder_path, image_files[i])) for i in range(3)]\n",
    "    \n",
    "    images = [cv2.cvtColor(img, cv2.COLOR_BGR2RGB) for img in images]\n",
    "    \n",
    "    fig, axes = plt.subplots(1, 3, figsize=(12, 4))\n",
    "    \n",
    "    for i, ax in enumerate(axes):\n",
    "        ax.imshow(images[i])\n",
    "        ax.set_title(f\"{os.path.splitext(image_files[i])[0]}\", fontsize=15, fontweight='bold')\n",
    "        ax.axis('off')\n",
    "    \n",
    "    plt.tight_layout()\n",
    "\n",
    "    if main_folder == \"cameraman_results\":\n",
    "        output_image_path = os.path.join(output_folder, f\"cm_n{int(float(folder_path.split('_')[-1])*100)}.png\")\n",
    "    else:\n",
    "        output_image_path = os.path.join(output_folder, f\"en_n{int(float(folder_path.split('_')[-1])*100)}.png\")\n",
    "    \n",
    "    plt.suptitle(\"\\n\\n\")\n",
    "    plt.savefig(output_image_path)\n",
    "    plt.close()\n",
    "\n",
    "def process_folders(main_folder):\n",
    "    \"\"\"\n",
    "    Process each subfolder in the main result folder, plotting and saving images.\n",
    "    main_folder: path of the main result folder containing subfolders for each noise level\n",
    "    \"\"\"\n",
    "    subfolders = [os.path.join(main_folder, subfolder) for subfolder in os.listdir(main_folder)\n",
    "                  if os.path.isdir(os.path.join(main_folder, subfolder))]\n",
    "    \n",
    "    for subfolder in subfolders:\n",
    "        noise_level = os.path.basename(subfolder)  #\n",
    "        print(f\"Processing folder: {subfolder}\")\n",
    "        \n",
    "        # Plot and save images\n",
    "        plot_images_and_save(subfolder, subfolder, main_folder)\n",
    "        \n",
    "cameraman = \"cameraman_results\"  \n",
    "einstein = \"einstein_results\"  \n",
    "\n",
    "\n",
    "process_folders(cameraman)\n",
    "process_folders(einstein)\n"
   ]
  },
  {
   "cell_type": "code",
   "execution_count": null,
   "metadata": {},
   "outputs": [],
   "source": []
  }
 ],
 "metadata": {
  "kernelspec": {
   "display_name": "tinkeer",
   "language": "python",
   "name": "python3"
  },
  "language_info": {
   "codemirror_mode": {
    "name": "ipython",
    "version": 3
   },
   "file_extension": ".py",
   "mimetype": "text/x-python",
   "name": "python",
   "nbconvert_exporter": "python",
   "pygments_lexer": "ipython3",
   "version": "3.11.9"
  }
 },
 "nbformat": 4,
 "nbformat_minor": 2
}
